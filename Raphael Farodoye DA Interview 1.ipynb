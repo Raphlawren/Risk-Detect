{
 "cells": [
  {
   "cell_type": "code",
   "execution_count": 1,
   "id": "b8b59ac6",
   "metadata": {},
   "outputs": [],
   "source": [
    "import pandas as pd\n",
    "import numpy as np"
   ]
  },
  {
   "cell_type": "code",
   "execution_count": 2,
   "id": "56a2078c",
   "metadata": {},
   "outputs": [],
   "source": [
    "df = pd.read_csv(\"/Users/macbookair/Downloads/transactional-sample.txt\")"
   ]
  },
  {
   "cell_type": "code",
   "execution_count": 5,
   "id": "4d6982ae",
   "metadata": {},
   "outputs": [
    {
     "data": {
      "text/html": [
       "<div>\n",
       "<style scoped>\n",
       "    .dataframe tbody tr th:only-of-type {\n",
       "        vertical-align: middle;\n",
       "    }\n",
       "\n",
       "    .dataframe tbody tr th {\n",
       "        vertical-align: top;\n",
       "    }\n",
       "\n",
       "    .dataframe thead th {\n",
       "        text-align: right;\n",
       "    }\n",
       "</style>\n",
       "<table border=\"1\" class=\"dataframe\">\n",
       "  <thead>\n",
       "    <tr style=\"text-align: right;\">\n",
       "      <th></th>\n",
       "      <th>transaction_id</th>\n",
       "      <th>merchant_id</th>\n",
       "      <th>user_id</th>\n",
       "      <th>card_number</th>\n",
       "      <th>transaction_date</th>\n",
       "      <th>transaction_amount</th>\n",
       "      <th>device_id</th>\n",
       "      <th>has_cbk</th>\n",
       "    </tr>\n",
       "  </thead>\n",
       "  <tbody>\n",
       "    <tr>\n",
       "      <th>0</th>\n",
       "      <td>21320398</td>\n",
       "      <td>29744</td>\n",
       "      <td>97051</td>\n",
       "      <td>434505******9116</td>\n",
       "      <td>2019-12-01 23:16:32.812632</td>\n",
       "      <td>374.56</td>\n",
       "      <td>285475.0</td>\n",
       "      <td>False</td>\n",
       "    </tr>\n",
       "    <tr>\n",
       "      <th>1</th>\n",
       "      <td>21320399</td>\n",
       "      <td>92895</td>\n",
       "      <td>2708</td>\n",
       "      <td>444456******4210</td>\n",
       "      <td>2019-12-01 22:45:37.873639</td>\n",
       "      <td>734.87</td>\n",
       "      <td>497105.0</td>\n",
       "      <td>True</td>\n",
       "    </tr>\n",
       "    <tr>\n",
       "      <th>2</th>\n",
       "      <td>21320400</td>\n",
       "      <td>47759</td>\n",
       "      <td>14777</td>\n",
       "      <td>425850******7024</td>\n",
       "      <td>2019-12-01 22:22:43.021495</td>\n",
       "      <td>760.36</td>\n",
       "      <td>NaN</td>\n",
       "      <td>False</td>\n",
       "    </tr>\n",
       "    <tr>\n",
       "      <th>3</th>\n",
       "      <td>21320401</td>\n",
       "      <td>68657</td>\n",
       "      <td>69758</td>\n",
       "      <td>464296******3991</td>\n",
       "      <td>2019-12-01 21:59:19.797129</td>\n",
       "      <td>2556.13</td>\n",
       "      <td>NaN</td>\n",
       "      <td>True</td>\n",
       "    </tr>\n",
       "    <tr>\n",
       "      <th>4</th>\n",
       "      <td>21320402</td>\n",
       "      <td>54075</td>\n",
       "      <td>64367</td>\n",
       "      <td>650487******6116</td>\n",
       "      <td>2019-12-01 21:30:53.347051</td>\n",
       "      <td>55.36</td>\n",
       "      <td>860232.0</td>\n",
       "      <td>False</td>\n",
       "    </tr>\n",
       "  </tbody>\n",
       "</table>\n",
       "</div>"
      ],
      "text/plain": [
       "   transaction_id  merchant_id  user_id       card_number  \\\n",
       "0        21320398        29744    97051  434505******9116   \n",
       "1        21320399        92895     2708  444456******4210   \n",
       "2        21320400        47759    14777  425850******7024   \n",
       "3        21320401        68657    69758  464296******3991   \n",
       "4        21320402        54075    64367  650487******6116   \n",
       "\n",
       "            transaction_date  transaction_amount  device_id  has_cbk  \n",
       "0 2019-12-01 23:16:32.812632              374.56   285475.0    False  \n",
       "1 2019-12-01 22:45:37.873639              734.87   497105.0     True  \n",
       "2 2019-12-01 22:22:43.021495              760.36        NaN    False  \n",
       "3 2019-12-01 21:59:19.797129             2556.13        NaN     True  \n",
       "4 2019-12-01 21:30:53.347051               55.36   860232.0    False  "
      ]
     },
     "execution_count": 5,
     "metadata": {},
     "output_type": "execute_result"
    }
   ],
   "source": [
    "df.head()"
   ]
  },
  {
   "cell_type": "code",
   "execution_count": null,
   "id": "07740acf",
   "metadata": {},
   "outputs": [],
   "source": [
    "## convert transaction_date to datetime\n",
    "\n",
    "df['transaction_date'] = pd.to_datetime(df['transaction_date'])"
   ]
  },
  {
   "cell_type": "code",
   "execution_count": 6,
   "id": "31654e37",
   "metadata": {},
   "outputs": [
    {
     "name": "stdout",
     "output_type": "stream",
     "text": [
      "Top users with most chargebacks:\n",
      "user_id\n",
      "11750    25\n",
      "91637    19\n",
      "79054    15\n",
      "96025    13\n",
      "78262    12\n",
      "75710    10\n",
      "7725      7\n",
      "17929     6\n",
      "21768     6\n",
      "28218     5\n",
      "Name: transaction_id, dtype: int64\n"
     ]
    }
   ],
   "source": [
    "### check chargeback rate per user, card, device, merchant\n",
    "print(\"Top users with most chargebacks:\")\n",
    "print(df[df['has_cbk'] == True].groupby('user_id')['transaction_id'].count().sort_values(ascending=False).head(10))"
   ]
  },
  {
   "cell_type": "code",
   "execution_count": 7,
   "id": "8cd197b5",
   "metadata": {},
   "outputs": [
    {
     "name": "stdout",
     "output_type": "stream",
     "text": [
      "\n",
      "Top devices with most chargebacks:\n",
      "device_id\n",
      "563499.0    19\n",
      "342890.0    15\n",
      "101848.0    15\n",
      "438940.0    13\n",
      "547440.0    12\n",
      "960729.0     6\n",
      "542535.0     6\n",
      "357277.0     6\n",
      "308950.0     5\n",
      "597308.0     5\n",
      "Name: transaction_id, dtype: int64\n"
     ]
    }
   ],
   "source": [
    "print(\"\\nTop devices with most chargebacks:\")\n",
    "print(df[df['has_cbk'] == True].groupby('device_id')['transaction_id'].count().sort_values(ascending=False).head(10))"
   ]
  },
  {
   "cell_type": "code",
   "execution_count": 8,
   "id": "d68a8006",
   "metadata": {},
   "outputs": [
    {
     "name": "stdout",
     "output_type": "stream",
     "text": [
      "\n",
      "Top cards with most chargebacks:\n",
      "card_number\n",
      "554482******7640    10\n",
      "530034******3859     6\n",
      "651653******2256     5\n",
      "530034******8258     4\n",
      "498406******7104     4\n",
      "552289******8870     4\n",
      "459080******2870     4\n",
      "441030******2146     4\n",
      "552693******2902     3\n",
      "552640******7443     3\n",
      "Name: transaction_id, dtype: int64\n"
     ]
    }
   ],
   "source": [
    "print(\"\\nTop cards with most chargebacks:\")\n",
    "print(df[df['has_cbk'] == True].groupby('card_number')['transaction_id'].count().sort_values(ascending=False).head(10))\n"
   ]
  },
  {
   "cell_type": "code",
   "execution_count": 9,
   "id": "b7ab7f98",
   "metadata": {},
   "outputs": [],
   "source": [
    "### Check for repeated transactions\n",
    "df_sorted = df.sort_values(['card_number', 'transaction_date'])\n",
    "df_sorted['prev_time'] = df_sorted.groupby('card_number')['transaction_date'].shift(1)\n",
    "df_sorted['diff_minutes'] = (df_sorted['transaction_date'] - df_sorted['prev_time']).dt.total_seconds() / 60"
   ]
  },
  {
   "cell_type": "code",
   "execution_count": 10,
   "id": "81e2800c",
   "metadata": {},
   "outputs": [
    {
     "name": "stdout",
     "output_type": "stream",
     "text": [
      "\n",
      "Rapid repeat transactions with same card:\n",
      "      transaction_id       card_number           transaction_date  \\\n",
      "1714        21322112  230744******4802 2019-11-22 22:41:36.534791   \n",
      "2755        21323153  406168******4222 2019-11-11 23:20:43.945517   \n",
      "758         21321156  406669******1721 2019-11-28 23:59:44.770666   \n",
      "756         21321154  406669******1721 2019-11-29 00:01:41.332782   \n",
      "629         21321027  410863******7755 2019-11-29 15:35:24.506721   \n",
      "628         21321026  410863******7755 2019-11-29 15:36:16.283879   \n",
      "138         21320536  415274******8162 2019-12-01 02:16:11.464498   \n",
      "964         21321362  415944******1540 2019-11-28 15:41:40.107253   \n",
      "1030        21321428  415944******7186 2019-11-28 02:51:57.935225   \n",
      "481         21320879  421960******7769 2019-11-29 21:07:27.923685   \n",
      "\n",
      "      diff_minutes  \n",
      "1714      9.749440  \n",
      "2755      5.791082  \n",
      "758       5.307498  \n",
      "756       1.942702  \n",
      "629       1.432361  \n",
      "628       0.862953  \n",
      "138       7.594835  \n",
      "964       0.955325  \n",
      "1030      8.722298  \n",
      "481       3.372975  \n"
     ]
    }
   ],
   "source": [
    "rapid_transactions = df_sorted[(df_sorted['diff_minutes'] < 10) & (df_sorted['diff_minutes'] >= 0)]\n",
    "print(\"\\nRapid repeat transactions with same card:\")\n",
    "print(rapid_transactions[['transaction_id', 'card_number', 'transaction_date', 'diff_minutes']].head(10))\n"
   ]
  },
  {
   "cell_type": "code",
   "execution_count": null,
   "id": "faf8674b",
   "metadata": {},
   "outputs": [
    {
     "name": "stdout",
     "output_type": "stream",
     "text": [
      "\n",
      "Devices used by most unique users:\n",
      "device_id\n",
      "999843.0    1\n",
      "2.0         1\n",
      "4.0         1\n",
      "486.0       1\n",
      "2359.0      1\n",
      "2630.0      1\n",
      "3044.0      1\n",
      "3290.0      1\n",
      "4076.0      1\n",
      "4571.0      1\n",
      "Name: user_id, dtype: int64\n"
     ]
    }
   ],
   "source": [
    "# Devices used by multiple users (potential synthetic ID fraud)\n",
    "device_user_counts = df.groupby('device_id')['user_id'].nunique().sort_values(ascending=False)\n",
    "print(\"\\nDevices used by most unique users:\")\n",
    "print(device_user_counts.head(10))"
   ]
  },
  {
   "cell_type": "code",
   "execution_count": null,
   "id": "bb1d789b",
   "metadata": {},
   "outputs": [
    {
     "name": "stdout",
     "output_type": "stream",
     "text": [
      "\n",
      "Devices used by most unique users:\n",
      "device_id\n",
      "999843.0    1\n",
      "2.0         1\n",
      "4.0         1\n",
      "486.0       1\n",
      "2359.0      1\n",
      "2630.0      1\n",
      "3044.0      1\n",
      "3290.0      1\n",
      "4076.0      1\n",
      "4571.0      1\n",
      "Name: user_id, dtype: int64\n"
     ]
    }
   ],
   "source": [
    "# Devices used by multiple users (potential synthetic ID fraud)\n",
    "device_user_counts = df.groupby('device_id')['user_id'].nunique().sort_values(ascending=False)\n",
    "print(\"\\nDevices used by most unique users:\")\n",
    "print(device_user_counts.head(10))"
   ]
  },
  {
   "cell_type": "code",
   "execution_count": null,
   "id": "d8bf60cd",
   "metadata": {},
   "outputs": [
    {
     "name": "stdout",
     "output_type": "stream",
     "text": [
      "\n",
      "Merchants with most chargebacks:\n",
      "merchant_id\n",
      "17275    22\n",
      "4705     19\n",
      "1308     15\n",
      "53041    14\n",
      "77130    13\n",
      "44927    11\n",
      "91972    11\n",
      "73271    10\n",
      "29214     9\n",
      "55854     9\n",
      "Name: transaction_id, dtype: int64\n"
     ]
    }
   ],
   "source": [
    "# Merchants with most chargebacks\n",
    "merchant_cbk = df[df['has_cbk'] == True].groupby('merchant_id')['transaction_id'].count().sort_values(ascending=False)\n",
    "print(\"\\nMerchants with most chargebacks:\")\n",
    "print(merchant_cbk.head(10))"
   ]
  },
  {
   "cell_type": "code",
   "execution_count": null,
   "id": "62baec54",
   "metadata": {},
   "outputs": [],
   "source": []
  }
 ],
 "metadata": {
  "kernelspec": {
   "display_name": "base",
   "language": "python",
   "name": "python3"
  },
  "language_info": {
   "codemirror_mode": {
    "name": "ipython",
    "version": 3
   },
   "file_extension": ".py",
   "mimetype": "text/x-python",
   "name": "python",
   "nbconvert_exporter": "python",
   "pygments_lexer": "ipython3",
   "version": "3.13.5"
  }
 },
 "nbformat": 4,
 "nbformat_minor": 5
}
